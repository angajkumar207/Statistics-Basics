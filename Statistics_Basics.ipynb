{
  "nbformat": 4,
  "nbformat_minor": 0,
  "metadata": {
    "colab": {
      "provenance": []
    },
    "kernelspec": {
      "name": "python3",
      "display_name": "Python 3"
    },
    "language_info": {
      "name": "python"
    }
  },
  "cells": [
    {
      "cell_type": "markdown",
      "source": [
        "Statistics Basics"
      ],
      "metadata": {
        "id": "0taWyUPvkpri"
      }
    },
    {
      "cell_type": "markdown",
      "source": [
        "Q1.How do you calculate the mean, median, and mode of a dataset"
      ],
      "metadata": {
        "id": "710egl-bkqde"
      }
    },
    {
      "cell_type": "code",
      "source": [
        "import numpy as np\n",
        "import pandas as pd\n",
        "import statistics as sns"
      ],
      "metadata": {
        "id": "yNGzZii_lBhk"
      },
      "execution_count": 4,
      "outputs": []
    },
    {
      "cell_type": "code",
      "source": [
        "# here is First Question Solution:\n",
        "# i). mean\n",
        "# 2). mode\n",
        "# 3). Median\n",
        "\n",
        "m = [1, 2, 3, 4, 5, 6, 7, 8, 9, 10]\n",
        "mean_value = np.mean(m)\n",
        "median_value = np.median(m)\n",
        "mode_value = sns.mode(m)\n",
        "\n",
        "print(f\"Mean: {mean_value}\")\n",
        "print(f\"Median (numpy): {median_value}\")\n",
        "print(f\"Mode (statistcs): {mode_value}\")"
      ],
      "metadata": {
        "id": "WF251cv7lRHi"
      },
      "execution_count": null,
      "outputs": []
    },
    {
      "cell_type": "markdown",
      "source": [
        "Q2. Write a Python program to compute the variance and standard deviation of a dataset"
      ],
      "metadata": {
        "id": "kuy-ANKRmck3"
      }
    },
    {
      "cell_type": "code",
      "source": [
        "# Compute and display the variance and standard deviation\n",
        "# of the dataset\n",
        "\n",
        "data = [10, 20 , 30, 40, 50]\n",
        "\n",
        "variance_value = np.var(data)\n",
        "std_dev_value = np.std(data)\n",
        "\n",
        "print(f\"Variance: {variance_value}\")\n",
        "print(f\"Standard Deviation: {std_dev_value}\")"
      ],
      "metadata": {
        "id": "3vxxJ_DimeWh"
      },
      "execution_count": null,
      "outputs": []
    },
    {
      "cell_type": "markdown",
      "source": [
        "Q3. Create a dataset and classify it into nominal, ordinal, interval, and ratio types"
      ],
      "metadata": {
        "id": "jnfP0oqHo64c"
      }
    },
    {
      "cell_type": "code",
      "source": [
        "# Create a sample dataset\n",
        "data = {\n",
        "    'ID' : [1, 2, 3, 4, 5],\n",
        "    'Gender' : ['Male', 'Female', 'Male', 'Female', 'Male'], # this is nominal\n",
        "    'Educatiom' : ['BCA', 'Bcom', 'B tech', 'MCA', 'Mtech'], # ordinal\n",
        "    'Temperature' : [20, 25, 22, 45, 34], # interval\n",
        "    'income': [50000, 60000, 70000, 100000, 150000], # ratio\n",
        "}\n",
        "\n",
        "df = pd.DataFrame(data)\n",
        "print(df)\n"
      ],
      "metadata": {
        "id": "8rzqHVPlpCXl"
      },
      "execution_count": null,
      "outputs": []
    },
    {
      "cell_type": "markdown",
      "source": [
        "Q4.  Implement sampling techniques like random sampling and stratified sampling"
      ],
      "metadata": {
        "id": "lg4wnaXEs9-S"
      }
    },
    {
      "cell_type": "code",
      "source": [
        "# Implement sampling techniques: random sampling and stratified sampling\n",
        "\n",
        "# Create a sample dataset (keeping the dataset creation from the previous turn for context)\n",
        "data_sm = {\n",
        "    'Student_ID': [101, 102, 103, 104, 105, 106, 107, 108, 109, 110],\n",
        "    'Major': ['Computer Science', 'Physics', 'Chemistry', 'Biology', 'Math', 'Computer Science', 'Physics', 'Chemistry', 'Biology', 'Math'],\n",
        "    'Grade': ['A', 'B', 'C', 'B', 'A', 'B', 'C', 'A', 'B', 'C'],\n",
        "    'Exam_Score': [85, 78, 65, 80, 92, 70, 60, 95, 88, 75],\n",
        "    'Height_cm': [175, 163, 180, 168, 172, 178, 165, 185, 170, 176]\n",
        "}\n",
        "\n",
        "df_sm = pd.DataFrame(data_sm)\n",
        "\n",
        "print(\"Original DataFrame:\")\n",
        "print(df_sm)\n",
        "print(\"\\n\")\n",
        "\n",
        "## 1. Random Sampling\n",
        "## Sample 5 random rows from the DataFrame\n",
        "random_sample = df_sm.sample(n=5, random_state=42) # random_state for reproducibility\n",
        "print(\"Random Sample (n=5):\")\n",
        "print(random_sample)\n",
        "print(\"\\n\")\n",
        "\n",
        "## Sample 50% of the data randomly\n",
        "random_sample_fraction = df_sm.sample(frac=0.5, random_state=42)\n",
        "print(\"Random Sample (frac=0.5):\")\n",
        "print(random_sample_fraction)\n",
        "print(\"\\n\")\n",
        "\n",
        "## 2. Stratified Sampling\n",
        "stratified_sample_major = df_sm.groupby('Major').apply(lambda x: x.sample(n=1, random_state=42)).reset_index(drop=True)\n",
        "print(\"Stratified Sample (by Major, n=1 from each group):\")\n",
        "print(stratified_sample_major)\n",
        "print(\"\\n\")\n",
        "\n",
        "## Stratified sampling based on 'Grade'\n",
        "## Let's aim for a sample size of 1 from each 'Grade' if possible\n",
        "stratified_sample_grade = df_sm.groupby('Grade').apply(lambda x: x.sample(n=1, random_state=42)).reset_index(drop=True)\n",
        "print(\"Stratified Sample (by Grade, n=1 from each group):\")\n",
        "print(stratified_sample_grade)"
      ],
      "metadata": {
        "id": "yBjJpzzKqkPJ"
      },
      "execution_count": null,
      "outputs": []
    },
    {
      "cell_type": "markdown",
      "source": [
        "Q5. Write a Python function to calculate the range of a dataset ?"
      ],
      "metadata": {
        "id": "Hp6So1rmvZKR"
      }
    },
    {
      "cell_type": "code",
      "source": [
        "def calculate_range(dataset):\n",
        "  \"\"\"\n",
        "  Calculates the range of a dataset.\n",
        "\n",
        "  Args:\n",
        "    dataset: A list, tuple, or array of numerical data.\n",
        "\n",
        "  Returns:\n",
        "    The range of the dataset (maximum value - minimum value).\n",
        "    Returns None if the dataset is empty.\n",
        "  \"\"\"\n",
        "  if not dataset:\n",
        "    return None\n",
        "  return max(dataset) - min(dataset)\n",
        "\n",
        "# Example usage:\n",
        "data_example = [10, 20, 30, 40, 50, 5]\n",
        "range_value = calculate_range(data_example)\n",
        "\n",
        "print(f\"The dataset is: {data_example}\")\n",
        "print(f\"The range of the dataset is: {range_value}\")\n",
        "\n",
        "data_empty = []\n",
        "range_empty = calculate_range(data_empty)\n",
        "print(f\"\\nThe dataset is: {data_empty}\")\n",
        "print(f\"The range of the dataset is: {range_empty}\")"
      ],
      "metadata": {
        "id": "jcGgrjX9ve-K"
      },
      "execution_count": null,
      "outputs": []
    },
    {
      "cell_type": "markdown",
      "source": [
        "Q6. Create a dataset and plot its histogram to visualize skewness"
      ],
      "metadata": {
        "id": "ochPIJ0GvrbP"
      }
    },
    {
      "cell_type": "code",
      "source": [
        "import matplotlib.pyplot as plt\n",
        "import seaborn as sns\n",
        "\n",
        "# Create a sample dataset with some skewness (e.g., income data)\n",
        "data_skewed = [15000, 20000, 25000, 30000, 35000, 40000, 45000, 50000, 60000, 70000, 80000, 90000, 100000, 150000, 200000]\n",
        "\n",
        "# Create a histogram\n",
        "plt.figure(figsize=(8, 6))\n",
        "sns.histplot(data_skewed, kde=True, bins=5) # kde=True adds a kernel density estimate line\n",
        "plt.title('Histogram of Skewed Dataset')\n",
        "plt.xlabel('Value')\n",
        "plt.ylabel('Frequency')\n",
        "plt.show()\n",
        "\n",
        "# You can also calculate skewness numerically\n",
        "from scipy.stats import skew\n",
        "skewness_value = skew(data_skewed)\n",
        "print(f\"Skewness of the dataset: {skewness_value}\")"
      ],
      "metadata": {
        "id": "vYUFWt2kvvy2"
      },
      "execution_count": null,
      "outputs": []
    },
    {
      "cell_type": "markdown",
      "source": [
        "Q7. Calculate skewness and kurtosis of a dataset using Python libraries"
      ],
      "metadata": {
        "id": "b1G2vXCEv5b6"
      }
    },
    {
      "cell_type": "code",
      "source": [
        "from scipy.stats import skew, kurtosis\n",
        "import numpy as np\n",
        "\n",
        "# Create a sample dataset\n",
        "data_for_sk_ku = [1, 2, 3, 4, 5, 6, 7, 8, 9, 10, 100] # Example with an outlier to affect skewness/kurtosis\n",
        "\n",
        "# Calculate skewness\n",
        "skewness_value = skew(data_for_sk_ku)\n",
        "print(f\"Skewness of the dataset: {skewness_value}\")\n",
        "\n",
        "# Calculate kurtosis\n",
        "kurtosis_value = kurtosis(data_for_sk_ku)\n",
        "print(f\"Kurtosis of the dataset: {kurtosis_value}\")\n",
        "\n",
        "# You can also use pandas describe() for some statistics including skewness and kurtosis\n",
        "import pandas as pd\n",
        "df_for_sk_ku = pd.DataFrame(data_for_sk_ku, columns=['Values'])\n",
        "print(\"\\nDescriptive statistics using pandas:\")\n",
        "print(df_for_sk_ku.describe())\n",
        "print(f\"Pandas skewness: {df_for_sk_ku['Values'].skew()}\")\n",
        "print(f\"Pandas kurtosis: {df_for_sk_ku['Values'].kurtosis()}\")"
      ],
      "metadata": {
        "id": "nRANYK9rv_Z6"
      },
      "execution_count": null,
      "outputs": []
    },
    {
      "cell_type": "markdown",
      "source": [
        "Q8. Generate a dataset and demonstrate positive and negative skewness."
      ],
      "metadata": {
        "id": "ELtKrv1Rw0i-"
      }
    },
    {
      "cell_type": "code",
      "source": [
        "import numpy as np\n",
        "import matplotlib.pyplot as plt\n",
        "import seaborn as sns\n",
        "from scipy.stats import skew\n",
        "\n",
        "# Generate a dataset with positive skewness (e.g., income distribution)\n",
        "# Using a log-normal distribution for positive skew\n",
        "data_positive_skew = np.random.lognormal(mean=2, sigma=1, size=1000)\n",
        "\n",
        "# Generate a dataset with negative skewness (e.g., exam scores with a ceiling)\n",
        "# Using a beta distribution and scaling for negative skew\n",
        "data_negative_skew = 100 - np.random.beta(a=5, b=2, size=1000) * 100\n",
        "\n",
        "# Plot histograms to visualize skewness\n",
        "plt.figure(figsize=(12, 5))\n",
        "\n",
        "plt.subplot(1, 2, 1) # 1 row, 2 columns, 1st plot\n",
        "sns.histplot(data_positive_skew, kde=True, bins=30)\n",
        "plt.title(f'Histogram of Positively Skewed Data\\nSkewness: {skew(data_positive_skew):.2f}')\n",
        "plt.xlabel('Value')\n",
        "plt.ylabel('Frequency')\n",
        "\n",
        "plt.subplot(1, 2, 2) # 1 row, 2 columns, 2nd plot\n",
        "sns.histplot(data_negative_skew, kde=True, bins=30)\n",
        "plt.title(f'Histogram of Negatively Skewed Data\\nSkewness: {skew(data_negative_skew):.2f}')\n",
        "plt.xlabel('Value')\n",
        "plt.ylabel('Frequency')\n",
        "\n",
        "plt.tight_layout() # Adjust layout to prevent overlapping titles/labels\n",
        "plt.show()"
      ],
      "metadata": {
        "id": "jIgeByEew59E"
      },
      "execution_count": null,
      "outputs": []
    },
    {
      "cell_type": "markdown",
      "source": [
        "Q9. Write a Python script to calculate covariance between two datasets."
      ],
      "metadata": {
        "id": "_Ofh29dcxN9a"
      }
    },
    {
      "cell_type": "code",
      "source": [
        "import numpy as np\n",
        "\n",
        "# Create two sample datasets\n",
        "dataset1 = np.array([1, 2, 3, 4, 5])\n",
        "dataset2 = np.array([5, 4, 3, 2, 1]) # negative covariance\n",
        "dataset3 = np.array([1, 2, 3, 4, 5]) # positive covariance\n",
        "\n",
        "# Calculate the covariance matrix between dataset1 and dataset2\n",
        "covariance_matrix1_2 = np.cov(dataset1, dataset2)\n",
        "\n",
        "# The covariance between dataset1 and dataset2 is the off-diagonal element\n",
        "covariance_value1_2 = covariance_matrix1_2[0, 1]\n",
        "\n",
        "print(f\"Dataset 1: {dataset1}\")\n",
        "print(f\"Dataset 2: {dataset2}\")\n",
        "print(f\"Covariance Matrix between Dataset 1 and Dataset 2:\\n{covariance_matrix1_2}\")\n",
        "print(f\"Covariance between Dataset 1 and Dataset 2: {covariance_value1_2}\")\n",
        "print(\"\\n\")\n",
        "\n",
        "# Calculate the covariance matrix between dataset1 and dataset3\n",
        "covariance_matrix1_3 = np.cov(dataset1, dataset3)\n",
        "covariance_value1_3 = covariance_matrix1_3[0, 1]\n",
        "\n",
        "print(f\"Dataset 1: {dataset1}\")\n",
        "print(f\"Dataset 3: {dataset3}\")\n",
        "print(f\"Covariance Matrix between Dataset 1 and Dataset 3:\\n{covariance_matrix1_3}\")\n",
        "print(f\"Covariance between Dataset 1 and Dataset 3: {covariance_value1_3}\")"
      ],
      "metadata": {
        "id": "V5LEDVYRxMzl"
      },
      "execution_count": null,
      "outputs": []
    },
    {
      "cell_type": "markdown",
      "source": [
        "10. Write a Python script to calculate the correlation coefficient between two datasets"
      ],
      "metadata": {
        "id": "vQOE5YoIxp2X"
      }
    },
    {
      "cell_type": "code",
      "source": [
        "import numpy as np\n",
        "\n",
        "# Create two sample datasets\n",
        "dataset1_corr = np.array([1, 2, 3, 4, 5])\n",
        "dataset2_corr = np.array([5, 4, 3, 2, 1]) #negative correlation\n",
        "dataset3_corr = np.array([1, 2, 3, 4, 5]) #positive correlation\n",
        "\n",
        "# Calculate the correlation matrix between dataset1_corr and dataset2_corr\n",
        "correlation_matrix1_2 = np.corrcoef(dataset1_corr, dataset2_corr)\n",
        "\n",
        "# The correlation coefficient between dataset1_corr and dataset2_corr is the off-diagonal element\n",
        "correlation_value1_2 = correlation_matrix1_2[0, 1]\n",
        "\n",
        "print(f\"Dataset 1: {dataset1_corr}\")\n",
        "print(f\"Dataset 2: {dataset2_corr}\")\n",
        "print(f\"Correlation Matrix between Dataset 1 and Dataset 2:\\n{correlation_matrix1_2}\")\n",
        "print(f\"Correlation Coefficient between Dataset 1 and Dataset 2: {correlation_value1_2}\")\n",
        "print(\"\\n\")\n",
        "\n",
        "# Calculate the correlation matrix between dataset1_corr and dataset3_corr\n",
        "correlation_matrix1_3 = np.corrcoef(dataset1_corr, dataset3_corr)\n",
        "correlation_value1_3 = correlation_matrix1_3[0, 1]\n",
        "\n",
        "print(f\"Dataset 1: {dataset1_corr}\")\n",
        "print(f\"Dataset 3: {dataset3_corr}\")\n",
        "print(f\"Correlation Matrix between Dataset 1 and Dataset 3:\\n{correlation_matrix1_3}\")\n",
        "print(f\"Correlation Coefficient between Dataset 1 and Dataset 3: {correlation_value1_3}\")"
      ],
      "metadata": {
        "id": "peeBTjdSxm_S"
      },
      "execution_count": null,
      "outputs": []
    },
    {
      "cell_type": "markdown",
      "source": [
        "Q11. Create a scatter plot to visualize the relationship between two variables"
      ],
      "metadata": {
        "id": "39xRwl04x7E1"
      }
    },
    {
      "cell_type": "code",
      "source": [
        "import matplotlib.pyplot as plt\n",
        "import seaborn as sns\n",
        "\n",
        "plt.figure(figsize=(8, 6))\n",
        "sns.scatterplot(data=df_sm, x='Exam_Score', y='Height_cm')\n",
        "plt.title('Scatter Plot of Exam Score vs. Height')\n",
        "plt.xlabel('Exam Score')\n",
        "plt.ylabel('Height (cm)')\n",
        "plt.grid(True)\n",
        "plt.show()"
      ],
      "metadata": {
        "id": "LrLEg2toyRX5"
      },
      "execution_count": null,
      "outputs": []
    },
    {
      "cell_type": "markdown",
      "source": [
        "Q 12. Implement and compare simple random sampling and systematic sampling"
      ],
      "metadata": {
        "id": "mCUtrtGwyaAj"
      }
    },
    {
      "cell_type": "code",
      "source": [
        "import numpy as np\n",
        "import pandas as pd\n",
        "\n",
        "# Using the df_sm DataFrame created earlier\n",
        "# df_sm has 10 rows\n",
        "\n",
        "print(\"Original DataFrame:\")\n",
        "print(df_sm)\n",
        "print(\"\\n\")\n",
        "\n",
        "# Simple Random Sampling (without replacement)\n",
        "simple_random_sample = df_sm.sample(n=4, random_state=42) # Sample 4 random rows\n",
        "print(\"Simple Random Sample (n=4):\")\n",
        "print(simple_random_sample)\n",
        "print(\"\\n\")\n",
        "\n",
        "# Systematic Sampling\n",
        "# Choose a starting point and an interval (k)\n",
        "n_samples = 4\n",
        "total_size = len(df_sm)\n",
        "k = total_size // n_samples # Calculate the interval\n",
        "\n",
        "# Randomly select a starting point between 0 and k-1\n",
        "start_point = np.random.randint(0, k)\n",
        "\n",
        "# Select the samples at regular intervals\n",
        "systematic_sample_indices = np.arange(start_point, total_size, k)\n",
        "systematic_sample = df_sm.iloc[systematic_sample_indices]\n",
        "\n",
        "print(f\"Systematic Sample (start_point={start_point}, interval k={k}):\")\n",
        "print(systematic_sample)"
      ],
      "metadata": {
        "id": "aMff_WymyhZb"
      },
      "execution_count": null,
      "outputs": []
    },
    {
      "cell_type": "markdown",
      "source": [
        "Q 13.  Calculate the mean, median, and mode of grouped data."
      ],
      "metadata": {
        "id": "eX9rdso_yw3B"
      }
    },
    {
      "cell_type": "code",
      "metadata": {
        "id": "f4277743"
      },
      "source": [
        "import pandas as pd\n",
        "import numpy as np\n",
        "\n",
        "# Create a sample dataset representing grouped data (e.g., age groups and their frequencies)\n",
        "data_grouped = {\n",
        "    'Age_Group': ['18-25', '26-35', '36-45', '46-55', '56-65'],\n",
        "    'Frequency': [10, 25, 30, 20, 15]\n",
        "}\n",
        "df_grouped = pd.DataFrame(data_grouped)\n",
        "\n",
        "print(\"Grouped Data:\")\n",
        "print(df_grouped)\n",
        "print(\"\\n\")\n",
        "\n",
        "# Assume approximate midpoints for each age group\n",
        "midpoints = np.array([21.5, 30.5, 40.5, 50.5, 60.5])\n",
        "frequencies = np.array(df_grouped['Frequency'])\n",
        "\n",
        "# 1. Approximate Mean for Grouped Data\n",
        "# Formula: Sum of (midpoint * frequency) / Sum of frequencies\n",
        "approx_mean = np.sum(midpoints * frequencies) / np.sum(frequencies)\n",
        "print(f\"Approximate Mean: {approx_mean:.2f}\")\n",
        "print(\"\\n\")\n",
        "\n",
        "# 2. Approximate Median for Grouped Data\n",
        "# This requires finding the median class and using the formula:\n",
        "# Median = L + (((N/2) - CF) / f) * w\n",
        "# L = Lower boundary of the median class\n",
        "# N = Total frequency\n",
        "# CF = Cumulative frequency of the class preceding the median class\n",
        "# f = Frequency of the median class\n",
        "# w = Class width of the median class\n",
        "\n",
        "# Calculate cumulative frequencies\n",
        "cumulative_frequencies = np.cumsum(frequencies)\n",
        "total_frequency = np.sum(frequencies)\n",
        "median_class_index = np.where(cumulative_frequencies >= total_frequency / 2)[0][0]\n",
        "\n",
        "# For simplicity, let's define class boundaries and widths based on the given age groups\n",
        "\n",
        "lower_boundaries = np.array([18, 26, 36, 46, 56])\n",
        "upper_boundaries = np.array([25, 35, 45, 55, 65]) # These are upper limits, not boundaries\n",
        "\n",
        "\n",
        "continuous_lower_boundaries = np.array([17.5, 25.5, 35.5, 45.5, 55.5])\n",
        "continuous_upper_boundaries = np.array([25.5, 35.5, 45.5, 55.5, 65.5])\n",
        "class_widths = continuous_upper_boundaries - continuous_lower_boundaries\n",
        "\n",
        "L = continuous_lower_boundaries[median_class_index]\n",
        "CF = cumulative_frequencies[median_class_index - 1] if median_class_index > 0 else 0\n",
        "f = frequencies[median_class_index]\n",
        "w = class_widths[median_class_index]\n",
        "\n",
        "approx_median = L + (((total_frequency / 2) - CF) / f) * w\n",
        "print(f\"Approximate Median: {approx_median:.2f}\")\n",
        "print(\"\\n\")\n",
        "\n",
        "\n",
        "# 3. Approximate Mode for Grouped Data\n",
        "# This requires finding the modal class (class with the highest frequency) and using the formula:\n",
        "# Mode = L + ((f1 - f0) / (2*f1 - f0 - f2)) * w\n",
        "# L = Lower boundary of the modal class\n",
        "# f1 = Frequency of the modal class\n",
        "# f0 = Frequency of the class preceding the modal class\n",
        "# f2 = Frequency of the class succeeding the modal class\n",
        "# w = Class width of the modal class\n",
        "\n",
        "modal_class_index = np.argmax(frequencies)\n",
        "\n",
        "L_mode = continuous_lower_boundaries[modal_class_index]\n",
        "f1 = frequencies[modal_class_index]\n",
        "f0 = frequencies[modal_class_index - 1] if modal_class_index > 0 else 0\n",
        "f2 = frequencies[modal_class_index + 1] if modal_class_index < len(frequencies) - 1 else 0\n",
        "w_mode = class_widths[modal_class_index]\n",
        "\n",
        "# Handle cases where modal class is the first or last class to avoid division by zero or issues with f0/f2\n",
        "denominator = (2 * f1 - f0 - f2)\n",
        "if denominator == 0:\n",
        "    # If denominator is zero, the mode is ill-defined or the distribution is multimodal\n",
        "    approx_mode = \"Cannot be calculated with this formula (denominator is zero)\"\n",
        "else:\n",
        "    approx_mode = L_mode + ((f1 - f0) / denominator) * w_mode\n",
        "\n",
        "print(f\"Approximate Mode: {approx_mode}\")"
      ],
      "execution_count": null,
      "outputs": []
    },
    {
      "cell_type": "markdown",
      "source": [
        "Q 14.  Simulate data using Python and calculate its central tendency and dispersion>"
      ],
      "metadata": {
        "id": "aGliGfw9zR35"
      }
    },
    {
      "cell_type": "code",
      "source": [
        "import numpy as np\n",
        "import pandas as pd\n",
        "import statistics\n",
        "\n",
        "# Simulate a dataset (e.g., 100 random numbers from a normal distribution)\n",
        "simulated_data = np.random.normal(loc=50, scale=10, size=100) # Mean=50, Std Dev=10, 100 data points\n",
        "\n",
        "print(\"Simulated Data (first 10):\")\n",
        "print(simulated_data[:10])\n",
        "print(\"\\n\")\n",
        "\n",
        "# Calculate Central Tendency\n",
        "mean_simulated = np.mean(simulated_data)\n",
        "median_simulated_np = np.median(simulated_data)\n",
        "\n",
        "try:\n",
        "    mode_simulated = statistics.mode(simulated_data)\n",
        "    print(f\"Mode (statistics): {mode_simulated}\")\n",
        "except statistics.StatisticsError:\n",
        "    mode_simulated = \"No unique mode found (likely for continuous data)\"\n",
        "    print(f\"Mode: {mode_simulated}\")\n",
        "\n",
        "\n",
        "print(f\"Mean: {mean_simulated:.2f}\")\n",
        "print(f\"Median (numpy): {median_simulated_np:.2f}\")\n",
        "\n",
        "\n",
        "print(\"\\n\")\n",
        "\n",
        "# Calculate Dispersion\n",
        "variance_simulated = np.var(simulated_data)\n",
        "std_dev_simulated = np.std(simulated_data)\n",
        "\n",
        "print(f\"Variance: {variance_simulated:.2f}\")\n",
        "print(f\"Standard Deviation: {std_dev_simulated:.2f}\")\n",
        "\n",
        "# Using pandas describe() for a quick summary\n",
        "df_simulated = pd.DataFrame(simulated_data, columns=['Simulated_Values'])\n",
        "print(\"\\nDescriptive statistics using pandas:\")\n",
        "print(df_simulated.describe())"
      ],
      "metadata": {
        "id": "5I3smv3nzXNn"
      },
      "execution_count": null,
      "outputs": []
    },
    {
      "cell_type": "markdown",
      "source": [
        "Q 15. Use NumPy or pandas to summarize a dataset’s descriptive statistics"
      ],
      "metadata": {
        "id": "XLrwyc-nzg8E"
      }
    },
    {
      "cell_type": "code",
      "source": [
        "import pandas as pd\n",
        "\n",
        "# Using the df_sm DataFrame created earlier as an example\n",
        "print(\"Descriptive Statistics for df_sm using pandas.describe():\")\n",
        "print(df_sm.describe())\n",
        "\n",
        "# You can also get descriptive statistics for specific columns\n",
        "print(\"\\nDescriptive Statistics for 'Exam_Score' column:\")\n",
        "print(df_sm['Exam_Score'].describe())\n",
        "\n",
        "# For non-numerical columns, describe() provides different information\n",
        "print(\"\\nDescriptive Statistics for 'Major' column:\")\n",
        "print(df_sm['Major'].describe())\n",
        "\n",
        "# Using NumPy for some basic statistics\n",
        "import numpy as np\n",
        "\n",
        "print(\"\\nBasic statistics for 'Exam_Score' using NumPy:\")\n",
        "print(f\"Mean: {np.mean(df_sm['Exam_Score'])}\")\n",
        "print(f\"Median: {np.median(df_sm['Exam_Score'])}\")\n",
        "print(f\"Standard Deviation: {np.std(df_sm['Exam_Score'])}\")\n",
        "print(f\"Variance: {np.var(df_sm['Exam_Score'])}\")\n",
        "print(f\"Min: {np.min(df_sm['Exam_Score'])}\")\n",
        "print(f\"Max: {np.max(df_sm['Exam_Score'])}\")"
      ],
      "metadata": {
        "id": "lq1BOPSHzgrb"
      },
      "execution_count": null,
      "outputs": []
    },
    {
      "cell_type": "markdown",
      "source": [
        "Q 16. Plot a boxplot to understand the spread and identify outliers."
      ],
      "metadata": {
        "id": "_pe3d9TNzyr-"
      }
    },
    {
      "cell_type": "code",
      "source": [
        "import matplotlib.pyplot as plt\n",
        "import seaborn as sns\n",
        "\n",
        "# Use the df_sm DataFrame created earlier\n",
        "# Plot a boxplot for a numerical column, e.g., 'Exam_Score'\n",
        "\n",
        "plt.figure(figsize=(8, 6))\n",
        "sns.boxplot(data=df_sm, y='Exam_Score')\n",
        "plt.title('Boxplot of Exam Scores')\n",
        "plt.ylabel('Exam Score')\n",
        "plt.show()\n",
        "\n",
        "# You can also create boxplots for multiple columns or grouped by a categorical variable\n",
        "plt.figure(figsize=(10, 6))\n",
        "sns.boxplot(data=df_sm, x='Major', y='Exam_Score')\n",
        "plt.title('Boxplot of Exam Scores by Major')\n",
        "plt.xlabel('Major')\n",
        "plt.ylabel('Exam Score')\n",
        "plt.xticks(rotation=45, ha='right') # Rotate x-axis labels for better readability\n",
        "plt.tight_layout()\n",
        "plt.show()"
      ],
      "metadata": {
        "id": "CBHzlLNLz4A9"
      },
      "execution_count": null,
      "outputs": []
    },
    {
      "cell_type": "markdown",
      "source": [
        "Q 17.  Calculate the interquartile range (IQR) of a dataset."
      ],
      "metadata": {
        "id": "thmQ_TlUz-68"
      }
    },
    {
      "cell_type": "code",
      "source": [
        "import numpy as np\n",
        "import pandas as pd\n",
        "\n",
        "# Check if df_sm exists, otherwise create a sample dataset\n",
        "try:\n",
        "    exam_scores = df_sm['Exam_Score']\n",
        "except NameError:\n",
        "    print(\"df_sm not found. Creating a sample dataset for demonstration.\")\n",
        "    data_sample = {'Exam_Score': [85, 78, 65, 80, 92, 70, 60, 95, 88, 75]}\n",
        "    df_sm = pd.DataFrame(data_sample)\n",
        "    exam_scores = df_sm['Exam_Score']\n",
        "\n",
        "# Calculate the first quartile (Q1)\n",
        "Q1 = np.percentile(exam_scores, 25)\n",
        "\n",
        "# Calculate the third quartile (Q3)\n",
        "Q3 = np.percentile(exam_scores, 75)\n",
        "\n",
        "# Calculate the Interquartile Range (IQR)\n",
        "IQR = Q3 - Q1\n",
        "\n",
        "print(f\"Dataset (Exam Scores):\\n{exam_scores.values}\")\n",
        "print(f\"\\nFirst Quartile (Q1): {Q1}\")\n",
        "print(f\"Third Quartile (Q3): {Q3}\")\n",
        "print(f\"Interquartile Range (IQR): {IQR}\")\n",
        "\n",
        "# Alternatively, using pandas quantile method\n",
        "Q1_pd = exam_scores.quantile(0.25)\n",
        "Q3_pd = exam_scores.quantile(0.75)\n",
        "IQR_pd = Q3_pd - Q1_pd\n",
        "\n",
        "print(f\"\\nUsing pandas quantile:\")\n",
        "print(f\"First Quartile (Q1): {Q1_pd}\")\n",
        "print(f\"Third Quartile (Q3): {Q3_pd}\")\n",
        "print(f\"Interquartile Range (IQR): {IQR_pd}\")"
      ],
      "metadata": {
        "id": "H_6IvqRf0K4d"
      },
      "execution_count": null,
      "outputs": []
    },
    {
      "cell_type": "markdown",
      "source": [
        "Q 18.  Implement Z-score normalization and explain its significance."
      ],
      "metadata": {
        "id": "3xq7Vc4c0cjH"
      }
    },
    {
      "cell_type": "code",
      "source": [],
      "metadata": {
        "id": "hh1u-0mp0iDF"
      },
      "execution_count": null,
      "outputs": []
    },
    {
      "cell_type": "code",
      "metadata": {
        "id": "85c23ff0"
      },
      "source": [
        "import pandas as pd\n",
        "from scipy.stats import zscore\n",
        "\n",
        "\n",
        "try:\n",
        "    exam_scores = df_sm['Exam_Score']\n",
        "except NameError:\n",
        "    print(\"df_sm not found. Creating a sample dataset for demonstration.\")\n",
        "    data_sample = {'Exam_Score': [85, 78, 65, 80, 92, 70, 60, 95, 88, 75]}\n",
        "    df_sm = pd.DataFrame(data_sample)\n",
        "    exam_scores = df_sm['Exam_Score']\n",
        "\n",
        "\n",
        "print(\"Original Exam Scores:\")\n",
        "print(exam_scores.values)\n",
        "print(\"\\n\")\n",
        "\n",
        "# Implement Z-score normalization\n",
        "# Z-score = (x - mean) / standard deviation\n",
        "z_scores = zscore(exam_scores)\n",
        "\n",
        "print(\"Z-scores of Exam Scores:\")\n",
        "print(z_scores)\n",
        "\n",
        "# Verify that the mean of Z-scores is close to 0 and the standard deviation is close to 1\n",
        "print(f\"\\nMean of Z-scores: {np.mean(z_scores):.2f}\")\n",
        "print(f\"Standard Deviation of Z-scores: {np.std(z_scores):.2f}\")"
      ],
      "execution_count": null,
      "outputs": []
    },
    {
      "cell_type": "markdown",
      "source": [
        "Q 19. Compare two datasets using their standard deviations."
      ],
      "metadata": {
        "id": "MM6a4QQF0sTQ"
      }
    },
    {
      "cell_type": "code",
      "source": [
        "import numpy as np\n",
        "\n",
        "# Create two sample datasets with different standard deviations\n",
        "dataset_A = np.array([10, 12, 15, 18, 20]) # Smaller spread\n",
        "dataset_B = np.array([5, 15, 25, 35, 45]) # Larger spread\n",
        "\n",
        "# Calculate the standard deviation for each dataset\n",
        "std_dev_A = np.std(dataset_A)\n",
        "std_dev_B = np.std(dataset_B)\n",
        "\n",
        "print(f\"Dataset A: {dataset_A}\")\n",
        "print(f\"Standard Deviation of Dataset A: {std_dev_A:.2f}\")\n",
        "print(\"\\n\")\n",
        "\n",
        "print(f\"Dataset B: {dataset_B}\")\n",
        "print(f\"Standard Deviation of Dataset B: {std_dev_B:.2f}\")\n",
        "print(\"\\n\")\n",
        "\n",
        "# Comparison\n",
        "if std_dev_A < std_dev_B:\n",
        "    print(\"Dataset B has a larger standard deviation than Dataset A, indicating more spread in the data.\")\n",
        "elif std_dev_A > std_dev_B:\n",
        "    print(\"Dataset A has a larger standard deviation than Dataset B, indicating more spread in the data.\")\n",
        "else:\n",
        "    print(\"Both datasets have the same standard deviation.\")"
      ],
      "metadata": {
        "id": "Aq5H1Oln0xSh"
      },
      "execution_count": null,
      "outputs": []
    },
    {
      "cell_type": "markdown",
      "source": [
        "Q 20. Write a Python program to visualize covariance using a heatmap."
      ],
      "metadata": {
        "id": "_kG9jmep03Er"
      }
    },
    {
      "cell_type": "code",
      "source": [
        "import pandas as pd\n",
        "import seaborn as sns\n",
        "import matplotlib.pyplot as plt\n",
        "\n",
        "# Use a DataFrame with multiple numerical columns, e.g., df_sm\n",
        "# Make sure df_sm is available or create a sample DataFrame\n",
        "\n",
        "try:\n",
        "    # Select only numerical columns for covariance calculation\n",
        "    df_numerical = df_sm.select_dtypes(include=np.number)\n",
        "    # Drop the 'Student_ID' column as it's an identifier\n",
        "    df_numerical = df_numerical.drop(columns=['Student_ID'])\n",
        "except NameError:\n",
        "    print(\"df_sm not found. Creating a sample DataFrame for demonstration.\")\n",
        "    data_sample_heatmap = {\n",
        "        'Exam_Score': [85, 78, 65, 80, 92, 70, 60, 95, 88, 75],\n",
        "        'Height_cm': [175, 163, 180, 168, 172, 178, 165, 185, 170, 176],\n",
        "        'Weight_kg': [68, 55, 75, 60, 70, 72, 58, 80, 65, 62]\n",
        "    }\n",
        "    df_numerical = pd.DataFrame(data_sample_heatmap)\n",
        "\n",
        "# Calculate the covariance matrix\n",
        "covariance_matrix = df_numerical.cov()\n",
        "\n",
        "print(\"Covariance Matrix:\")\n",
        "print(covariance_matrix)\n",
        "print(\"\\n\")\n",
        "\n",
        "# Visualize the covariance matrix using a heatmap\n",
        "plt.figure(figsize=(8, 6))\n",
        "sns.heatmap(covariance_matrix, annot=True, cmap='coolwarm', fmt=\".2f\", linewidths=.5)\n",
        "plt.title('Covariance Heatmap')\n",
        "plt.show()"
      ],
      "metadata": {
        "id": "hGAcHQ2A08io"
      },
      "execution_count": null,
      "outputs": []
    },
    {
      "cell_type": "markdown",
      "source": [
        "Q 21. Use seaborn to create a correlation matrix for a dataset."
      ],
      "metadata": {
        "id": "XqkpHRVB1Ds_"
      }
    },
    {
      "cell_type": "code",
      "source": [
        "import pandas as pd\n",
        "import seaborn as sns\n",
        "import matplotlib.pyplot as plt\n",
        "import numpy as np\n",
        "\n",
        "\n",
        "try:\n",
        "    # Select only numerical columns for correlation calculation\n",
        "    df_numerical = df_sm.select_dtypes(include=np.number)\n",
        "    # Drop the 'Student_ID' column as it's an identifier\n",
        "    df_numerical = df_numerical.drop(columns=['Student_ID'])\n",
        "except NameError:\n",
        "    print(\"df_sm not found. Creating a sample DataFrame for demonstration.\")\n",
        "    data_sample_corr_heatmap = {\n",
        "        'Exam_Score': [85, 78, 65, 80, 92, 70, 60, 95, 88, 75],\n",
        "        'Height_cm': [175, 163, 180, 168, 172, 178, 165, 185, 170, 176],\n",
        "        'Weight_kg': [68, 55, 75, 60, 70, 72, 58, 80, 65, 62]\n",
        "    }\n",
        "    df_numerical = pd.DataFrame(data_sample_corr_heatmap)\n",
        "\n",
        "\n",
        "# Calculate the correlation matrix\n",
        "correlation_matrix = df_numerical.corr()\n",
        "\n",
        "print(\"Correlation Matrix:\")\n",
        "print(correlation_matrix)\n",
        "print(\"\\n\")\n",
        "\n",
        "# Visualize the correlation matrix using a heatmap\n",
        "plt.figure(figsize=(8, 6))\n",
        "sns.heatmap(correlation_matrix, annot=True, cmap='coolwarm', fmt=\".2f\", linewidths=.5)\n",
        "plt.title('Correlation Heatmap')\n",
        "plt.show()"
      ],
      "metadata": {
        "id": "s8lG1Cz31IIh"
      },
      "execution_count": null,
      "outputs": []
    },
    {
      "cell_type": "markdown",
      "source": [
        "Q 22. Generate a dataset and implement both variance and standard deviation computations."
      ],
      "metadata": {
        "id": "w9mrM6F91Phi"
      }
    },
    {
      "cell_type": "code",
      "source": [
        "import numpy as np\n",
        "\n",
        "# Generate a sample dataset\n",
        "data_var_std = np.array([15, 22, 18, 25, 30, 28, 20, 26])\n",
        "\n",
        "print(f\"Dataset: {data_var_std}\")\n",
        "print(\"\\n\")\n",
        "\n",
        "# Calculate Variance\n",
        "variance_value = np.var(data_var_std)\n",
        "print(f\"Variance: {variance_value:.2f}\")\n",
        "\n",
        "# Calculate Standard Deviation\n",
        "std_dev_value = np.std(data_var_std)\n",
        "print(f\"Standard Deviation: {std_dev_value:.2f}\")"
      ],
      "metadata": {
        "id": "oYOGVpq01VDJ"
      },
      "execution_count": null,
      "outputs": []
    },
    {
      "cell_type": "markdown",
      "source": [
        "Q 23.  Visualize skewness and kurtosis using Python libraries like matplotlib or seaborn."
      ],
      "metadata": {
        "id": "F3lZXf7u1b4p"
      }
    },
    {
      "cell_type": "code",
      "source": [
        "import numpy as np\n",
        "import matplotlib.pyplot as plt\n",
        "import seaborn as sns\n",
        "from scipy.stats import skew, kurtosis\n",
        "\n",
        "\n",
        "data_for_viz = np.concatenate([np.random.normal(loc=50, scale=10, size=200),\n",
        "                               np.random.exponential(scale=30, size=50)])\n",
        "\n",
        "# Plot a histogram to visualize skewness\n",
        "plt.figure(figsize=(8, 6))\n",
        "sns.histplot(data_for_viz, kde=True, bins=20)\n",
        "plt.title('Histogram to Visualize Skewness')\n",
        "plt.xlabel('Value')\n",
        "plt.ylabel('Frequency')\n",
        "plt.show()\n",
        "\n",
        "# Calculate skewness and kurtosis numerically\n",
        "skewness_value = skew(data_for_viz)\n",
        "kurtosis_value = kurtosis(data_for_viz) # Fisher's definition ( excess kurtosis)\n",
        "\n",
        "print(f\"\\nSkewness of the dataset: {skewness_value:.2f}\")\n",
        "print(f\"Kurtosis of the dataset (Fisher): {kurtosis_value:.2f}\")\n"
      ],
      "metadata": {
        "colab": {
          "base_uri": "https://localhost:8080/",
          "height": 616
        },
        "id": "SVolGG5P18Lh",
        "outputId": "1d41d7b0-d45a-4abd-9840-23947a7343ec"
      },
      "execution_count": 20,
      "outputs": [
        {
          "output_type": "display_data",
          "data": {
            "text/plain": [
              "<Figure size 800x600 with 1 Axes>"
            ],
            "image/png": "[encoded data removed]"
          },
          "metadata": {}
        },
        {
          "output_type": "stream",
          "name": "stdout",
          "text": [
            "\n",
            "Skewness of the dataset: 2.15\n",
            "Kurtosis of the dataset (Fisher): 14.37\n"
          ]
        }
      ]
    },
    {
      "cell_type": "markdown",
      "source": [
        "Q 24. Implement the Pearson and Spearman correlation coefficients for a dataset."
      ],
      "metadata": {
        "id": "1pZGik_p2Xxc"
      }
    },
    {
      "cell_type": "code",
      "source": [
        "from scipy.stats import pearsonr, spearmanr\n",
        "import numpy as np\n",
        "import pandas as pd\n",
        "\n",
        "data1_linear = np.array([1, 2, 3, 4, 5])\n",
        "data2_linear = np.array([2, 4, 5, 4, 5])\n",
        "data1_monotonic = np.array([1, 2, 3, 4, 5])\n",
        "data2_monotonic = np.array([1, 4, 9, 16, 25]) # y = x^2\n",
        "\n",
        "\n",
        "data1_random = np.array([1, 2, 3, 4, 5])\n",
        "data2_random = np.array([5, 1, 3, 2, 4])\n",
        "\n",
        "\n",
        "print(\"--- Analysis of Data with Linear Tendency ---\")\n",
        "\n",
        "pearson_corr_linear, _ = pearsonr(data1_linear, data2_linear)\n",
        "print(f\"Pearson correlation coefficient: {pearson_corr_linear:.2f}\")\n",
        "\n",
        "\n",
        "spearman_corr_linear, _ = spearmanr(data1_linear, data2_linear)\n",
        "print(f\"Spearman correlation coefficient: {spearman_corr_linear:.2f}\")\n",
        "print(\"\\n\")\n",
        "\n",
        "\n",
        "print(\"--- Analysis of Data with Monotonic Tendency ---\")\n",
        "# correlation coefficient\n",
        "pearson_corr_monotonic, _ = pearsonr(data1_monotonic, data2_monotonic)\n",
        "print(f\"Pearson correlation coefficient: {pearson_corr_monotonic:.2f}\")\n",
        "\n",
        "# Calculate Spearman correlation coefficient\n",
        "spearman_corr_monotonic, _ = spearmanr(data1_monotonic, data2_monotonic)\n",
        "print(f\"Spearman correlation coefficient: {spearman_corr_monotonic:.2f}\")\n",
        "print(\"\\n\")\n",
        "\n",
        "print(\"--- Analysis of Data with No Clear Relationship ---\")\n",
        "# Calculate Pearson correlation coefficient\n",
        "pearson_corr_random, _ = pearsonr(data1_random, data2_random)\n",
        "print(f\"Pearson correlation coefficient: {pearson_corr_random:.2f}\")\n",
        "\n",
        "# Calculate Spearman correlation coefficient\n",
        "spearman_corr_random, _ = spearmanr(data1_random, data2_random)\n",
        "print(f\"Spearman correlation coefficient: {spearman_corr_random:.2f}\")"
      ],
      "metadata": {
        "colab": {
          "base_uri": "https://localhost:8080/"
        },
        "id": "37fykdWd2Z8V",
        "outputId": "a2ef37be-58fa-4c50-d6cf-b1752b2a48bd"
      },
      "execution_count": 21,
      "outputs": [
        {
          "output_type": "stream",
          "name": "stdout",
          "text": [
            "--- Analysis of Data with Linear Tendency ---\n",
            "Pearson correlation coefficient: 0.77\n",
            "Spearman correlation coefficient: 0.74\n",
            "\n",
            "\n",
            "--- Analysis of Data with Monotonic Tendency ---\n",
            "Pearson correlation coefficient: 0.98\n",
            "Spearman correlation coefficient: 1.00\n",
            "\n",
            "\n",
            "--- Analysis of Data with No Clear Relationship ---\n",
            "Pearson correlation coefficient: -0.10\n",
            "Spearman correlation coefficient: -0.10\n"
          ]
        }
      ]
    }
  ]
}